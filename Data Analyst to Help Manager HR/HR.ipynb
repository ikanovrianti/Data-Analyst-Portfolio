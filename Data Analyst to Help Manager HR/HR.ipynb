{
 "cells": [
  {
   "cell_type": "markdown",
   "id": "dressed-satisfaction",
   "metadata": {},
   "source": [
    "# Data Analyst"
   ]
  },
  {
   "attachments": {},
   "cell_type": "markdown",
   "id": "sporting-beads",
   "metadata": {},
   "source": [
    "Perusahaan X memiliki department HR hanya untuk urusan administrasi talent nya saja, padahal Direktur HR melihat kondisi saat ini karyawannya terdapat ketimpangan jumlah dengan proyek perusahaan saat ini. Sehingga Direktur HR merekrut Manager HR untuk mengurusi rekrutmen dan performansi talent saat ini. Tantangannya, Perusahaan X merekrut talent baru terakhir di tahun 2018. Selanjutnya, Manager HR ini merekrut Anda selaku Data Analyst untuk membantu dalam memberikan informasi maupun insight dengan informasi data yang ada."
   ]
  },
  {
   "cell_type": "markdown",
   "id": "fatal-pattern",
   "metadata": {},
   "source": [
    "### Details Table :"
   ]
  },
  {
   "attachments": {},
   "cell_type": "markdown",
   "id": "damaged-probe",
   "metadata": {},
   "source": [
    "Employee_Name : Employee name\n",
    "\n",
    "EmpID : ID number of employee\n",
    "\n",
    "MarriedID : Married id of employee\n",
    "\n",
    "MaritalStatusID : Marital status of employee\n",
    "\n",
    "GenderID : Gender of employee\n",
    "\n",
    "EmpStatusID : Status of employment\n",
    "\n",
    "RoleID : Job role\n",
    "\n",
    "LevelID : Job level\n",
    "\n",
    "PerfScoreID : Performance of employee (Exceed, Fully meets, Average, Need improvement, Special treatment)\n",
    "\n",
    "Tribe : Department of employee\n",
    "\n",
    "Squad : Team in Department\n",
    "\n",
    "DOB : Date of birth\n",
    "\n",
    "RaceDesc : Race of employee\n",
    "\n",
    "DateofHire : Date of hire\n",
    "\n",
    "DateofTermination : Date of termination\n",
    "\n",
    "TermReason : Termination reason\n",
    "\n",
    "EmploymentStatus : Existing employment status\n",
    "\n",
    "RecruitmentSource : Source of recruitment\n",
    "\n",
    "EngagementSurvey : Engagement survey score (5 to 1)\n",
    "\n",
    "EmpSatisfaction : Employee satisfaction score (5 to 1)\n",
    "\n",
    "SpecialProjectsCount : Number of special project handled\n",
    "\n",
    "LastPerformanceReview_Date : Lasr performance review date\n",
    "\n",
    "DaysLateLast30 : Dats late in last 30days\n",
    "\n",
    "Absences : Number of absence since first hire"
   ]
  },
  {
   "cell_type": "markdown",
   "id": "turkish-namibia",
   "metadata": {},
   "source": [
    "### Import Library"
   ]
  },
  {
   "cell_type": "code",
   "execution_count": 1,
   "id": "equivalent-constant",
   "metadata": {},
   "outputs": [],
   "source": [
    "import numpy as np \n",
    "import pandas as pd\n",
    "import seaborn as sns\n",
    "import pandasql as ps \n",
    "import matplotlib.pyplot as plt\n",
    "%matplotlib inline"
   ]
  },
  {
   "cell_type": "markdown",
   "id": "former-dancing",
   "metadata": {},
   "source": [
    "### Read Data"
   ]
  },
  {
   "cell_type": "code",
   "execution_count": 2,
   "id": "unknown-favor",
   "metadata": {},
   "outputs": [
    {
     "data": {
      "text/html": [
       "<div>\n",
       "<style scoped>\n",
       "    .dataframe tbody tr th:only-of-type {\n",
       "        vertical-align: middle;\n",
       "    }\n",
       "\n",
       "    .dataframe tbody tr th {\n",
       "        vertical-align: top;\n",
       "    }\n",
       "\n",
       "    .dataframe thead th {\n",
       "        text-align: right;\n",
       "    }\n",
       "</style>\n",
       "<table border=\"1\" class=\"dataframe\">\n",
       "  <thead>\n",
       "    <tr style=\"text-align: right;\">\n",
       "      <th></th>\n",
       "      <th>Employee_Name</th>\n",
       "      <th>EmpID</th>\n",
       "      <th>MarriedID</th>\n",
       "      <th>MaritalStatusID</th>\n",
       "      <th>GenderID</th>\n",
       "      <th>EmpStatusID</th>\n",
       "      <th>RoleID</th>\n",
       "      <th>LevelID</th>\n",
       "      <th>PerfScoreID</th>\n",
       "      <th>Tribe</th>\n",
       "      <th>...</th>\n",
       "      <th>TermReason</th>\n",
       "      <th>EmploymentStatus</th>\n",
       "      <th>RecruitmentSource</th>\n",
       "      <th>EngagementSurvey</th>\n",
       "      <th>EngangementSurveyRound</th>\n",
       "      <th>EmpSatisfaction</th>\n",
       "      <th>SpecialProjectsCount</th>\n",
       "      <th>LastPerformanceReview_Date</th>\n",
       "      <th>DaysLateLast30</th>\n",
       "      <th>Absences</th>\n",
       "    </tr>\n",
       "  </thead>\n",
       "  <tbody>\n",
       "    <tr>\n",
       "      <th>0</th>\n",
       "      <td>A Ridwan</td>\n",
       "      <td>10001</td>\n",
       "      <td>Not married</td>\n",
       "      <td>Single</td>\n",
       "      <td>M</td>\n",
       "      <td>TKP/ Outsource</td>\n",
       "      <td>Product Owner</td>\n",
       "      <td>Senior</td>\n",
       "      <td>Exceed</td>\n",
       "      <td>EWD</td>\n",
       "      <td>...</td>\n",
       "      <td>N/A-StillEmployed</td>\n",
       "      <td>Active</td>\n",
       "      <td>LinkedIn</td>\n",
       "      <td>4.60</td>\n",
       "      <td>5</td>\n",
       "      <td>5</td>\n",
       "      <td>0</td>\n",
       "      <td>43847</td>\n",
       "      <td>0</td>\n",
       "      <td>1</td>\n",
       "    </tr>\n",
       "    <tr>\n",
       "      <th>1</th>\n",
       "      <td>Ade Setyanto</td>\n",
       "      <td>10002</td>\n",
       "      <td>Not married</td>\n",
       "      <td>Single</td>\n",
       "      <td>M</td>\n",
       "      <td>TKP/ Outsource</td>\n",
       "      <td>Product Owner</td>\n",
       "      <td>Senior</td>\n",
       "      <td>Fully meets</td>\n",
       "      <td>EWD</td>\n",
       "      <td>...</td>\n",
       "      <td>career change</td>\n",
       "      <td>Voluntarily Terminated</td>\n",
       "      <td>Indeed</td>\n",
       "      <td>4.96</td>\n",
       "      <td>5</td>\n",
       "      <td>3</td>\n",
       "      <td>6</td>\n",
       "      <td>42790</td>\n",
       "      <td>0</td>\n",
       "      <td>17</td>\n",
       "    </tr>\n",
       "    <tr>\n",
       "      <th>2</th>\n",
       "      <td>Adhitya Bramantya Ranggatyasta</td>\n",
       "      <td>10003</td>\n",
       "      <td>Married</td>\n",
       "      <td>Divorced</td>\n",
       "      <td>F</td>\n",
       "      <td>TKP/ Outsource</td>\n",
       "      <td>Product Owner</td>\n",
       "      <td>Senior</td>\n",
       "      <td>Average</td>\n",
       "      <td>ENT</td>\n",
       "      <td>...</td>\n",
       "      <td>hours</td>\n",
       "      <td>Voluntarily Terminated</td>\n",
       "      <td>LinkedIn</td>\n",
       "      <td>3.02</td>\n",
       "      <td>3</td>\n",
       "      <td>3</td>\n",
       "      <td>0</td>\n",
       "      <td>41409</td>\n",
       "      <td>0</td>\n",
       "      <td>3</td>\n",
       "    </tr>\n",
       "    <tr>\n",
       "      <th>3</th>\n",
       "      <td>Adji Wijaya Kusuma</td>\n",
       "      <td>10004</td>\n",
       "      <td>Not married</td>\n",
       "      <td>Single</td>\n",
       "      <td>F</td>\n",
       "      <td>TKP/ Outsource</td>\n",
       "      <td>Business Analyst</td>\n",
       "      <td>Middle</td>\n",
       "      <td>Exceed</td>\n",
       "      <td>ENT</td>\n",
       "      <td>...</td>\n",
       "      <td>N/A-StillEmployed</td>\n",
       "      <td>Active</td>\n",
       "      <td>Indeed</td>\n",
       "      <td>4.84</td>\n",
       "      <td>5</td>\n",
       "      <td>5</td>\n",
       "      <td>0</td>\n",
       "      <td>43833</td>\n",
       "      <td>0</td>\n",
       "      <td>15</td>\n",
       "    </tr>\n",
       "    <tr>\n",
       "      <th>4</th>\n",
       "      <td>Agus Andri Putra</td>\n",
       "      <td>10005</td>\n",
       "      <td>Not married</td>\n",
       "      <td>Single</td>\n",
       "      <td>F</td>\n",
       "      <td>Prohire</td>\n",
       "      <td>Business Analyst</td>\n",
       "      <td>Middle</td>\n",
       "      <td>Average</td>\n",
       "      <td>EDU</td>\n",
       "      <td>...</td>\n",
       "      <td>return to school</td>\n",
       "      <td>Voluntarily Terminated</td>\n",
       "      <td>Google Search</td>\n",
       "      <td>5.00</td>\n",
       "      <td>5</td>\n",
       "      <td>4</td>\n",
       "      <td>0</td>\n",
       "      <td>42767</td>\n",
       "      <td>0</td>\n",
       "      <td>2</td>\n",
       "    </tr>\n",
       "  </tbody>\n",
       "</table>\n",
       "<p>5 rows × 25 columns</p>\n",
       "</div>"
      ],
      "text/plain": [
       "                    Employee_Name  EmpID    MarriedID MaritalStatusID  \\\n",
       "0                        A Ridwan  10001  Not married          Single   \n",
       "1                    Ade Setyanto  10002  Not married          Single   \n",
       "2  Adhitya Bramantya Ranggatyasta  10003      Married        Divorced   \n",
       "3              Adji Wijaya Kusuma  10004  Not married          Single   \n",
       "4                Agus Andri Putra  10005  Not married          Single   \n",
       "\n",
       "  GenderID     EmpStatusID            RoleID LevelID  PerfScoreID Tribe  ...  \\\n",
       "0        M  TKP/ Outsource     Product Owner  Senior       Exceed   EWD  ...   \n",
       "1        M  TKP/ Outsource     Product Owner  Senior  Fully meets   EWD  ...   \n",
       "2        F  TKP/ Outsource     Product Owner  Senior      Average   ENT  ...   \n",
       "3        F  TKP/ Outsource  Business Analyst  Middle       Exceed   ENT  ...   \n",
       "4        F         Prohire  Business Analyst  Middle      Average   EDU  ...   \n",
       "\n",
       "          TermReason        EmploymentStatus RecruitmentSource  \\\n",
       "0  N/A-StillEmployed                  Active          LinkedIn   \n",
       "1      career change  Voluntarily Terminated            Indeed   \n",
       "2              hours  Voluntarily Terminated          LinkedIn   \n",
       "3  N/A-StillEmployed                  Active            Indeed   \n",
       "4   return to school  Voluntarily Terminated     Google Search   \n",
       "\n",
       "   EngagementSurvey  EngangementSurveyRound EmpSatisfaction  \\\n",
       "0              4.60                       5               5   \n",
       "1              4.96                       5               3   \n",
       "2              3.02                       3               3   \n",
       "3              4.84                       5               5   \n",
       "4              5.00                       5               4   \n",
       "\n",
       "  SpecialProjectsCount LastPerformanceReview_Date  DaysLateLast30  Absences  \n",
       "0                    0                      43847               0         1  \n",
       "1                    6                      42790               0        17  \n",
       "2                    0                      41409               0         3  \n",
       "3                    0                      43833               0        15  \n",
       "4                    0                      42767               0         2  \n",
       "\n",
       "[5 rows x 25 columns]"
      ]
     },
     "execution_count": 2,
     "metadata": {},
     "output_type": "execute_result"
    }
   ],
   "source": [
    "data = pd.read_csv('dataset.csv')\n",
    "data.head()"
   ]
  },
  {
   "cell_type": "code",
   "execution_count": 3,
   "id": "fifty-crossing",
   "metadata": {},
   "outputs": [
    {
     "name": "stdout",
     "output_type": "stream",
     "text": [
      "<class 'pandas.core.frame.DataFrame'>\n",
      "RangeIndex: 287 entries, 0 to 286\n",
      "Data columns (total 25 columns):\n",
      " #   Column                      Non-Null Count  Dtype  \n",
      "---  ------                      --------------  -----  \n",
      " 0   Employee_Name               287 non-null    object \n",
      " 1   EmpID                       287 non-null    int64  \n",
      " 2   MarriedID                   287 non-null    object \n",
      " 3   MaritalStatusID             287 non-null    object \n",
      " 4   GenderID                    287 non-null    object \n",
      " 5   EmpStatusID                 287 non-null    object \n",
      " 6   RoleID                      287 non-null    object \n",
      " 7   LevelID                     287 non-null    object \n",
      " 8   PerfScoreID                 287 non-null    object \n",
      " 9   Tribe                       287 non-null    object \n",
      " 10  Squad                       287 non-null    object \n",
      " 11  DOB                         287 non-null    object \n",
      " 12  RaceDesc                    287 non-null    object \n",
      " 13  DateofHire                  287 non-null    int64  \n",
      " 14  DateofTermination           93 non-null     float64\n",
      " 15  TermReason                  287 non-null    object \n",
      " 16  EmploymentStatus            287 non-null    object \n",
      " 17  RecruitmentSource           287 non-null    object \n",
      " 18  EngagementSurvey            287 non-null    float64\n",
      " 19  EngangementSurveyRound      287 non-null    int64  \n",
      " 20  EmpSatisfaction             287 non-null    int64  \n",
      " 21  SpecialProjectsCount        287 non-null    int64  \n",
      " 22  LastPerformanceReview_Date  287 non-null    int64  \n",
      " 23  DaysLateLast30              287 non-null    int64  \n",
      " 24  Absences                    287 non-null    int64  \n",
      "dtypes: float64(2), int64(8), object(15)\n",
      "memory usage: 56.2+ KB\n"
     ]
    }
   ],
   "source": [
    "data.info()"
   ]
  },
  {
   "cell_type": "markdown",
   "id": "color-tucson",
   "metadata": {},
   "source": [
    "### Mencari Data NULL"
   ]
  },
  {
   "cell_type": "code",
   "execution_count": 4,
   "id": "continent-stomach",
   "metadata": {},
   "outputs": [
    {
     "name": "stdout",
     "output_type": "stream",
     "text": [
      "Employee_Name                 False\n",
      "EmpID                         False\n",
      "MarriedID                     False\n",
      "MaritalStatusID               False\n",
      "GenderID                      False\n",
      "EmpStatusID                   False\n",
      "RoleID                        False\n",
      "LevelID                       False\n",
      "PerfScoreID                   False\n",
      "Tribe                         False\n",
      "Squad                         False\n",
      "DOB                           False\n",
      "RaceDesc                      False\n",
      "DateofHire                    False\n",
      "DateofTermination              True\n",
      "TermReason                    False\n",
      "EmploymentStatus              False\n",
      "RecruitmentSource             False\n",
      "EngagementSurvey              False\n",
      "EngangementSurveyRound        False\n",
      "EmpSatisfaction               False\n",
      "SpecialProjectsCount          False\n",
      "LastPerformanceReview_Date    False\n",
      "DaysLateLast30                False\n",
      "Absences                      False\n",
      "dtype: bool\n"
     ]
    }
   ],
   "source": [
    "print(data.isnull().any())"
   ]
  },
  {
   "cell_type": "markdown",
   "id": "timely-definition",
   "metadata": {},
   "source": [
    "Karena data NULL berada pada column 'DateofTermination' yang dimana merupakan tanggal talent berhenti bekerja, wajar jika terdapat column yang kosong / NULL."
   ]
  },
  {
   "cell_type": "code",
   "execution_count": 5,
   "id": "classical-australian",
   "metadata": {},
   "outputs": [
    {
     "data": {
      "text/plain": [
       "0          NaN\n",
       "1      43267.0\n",
       "2      41906.0\n",
       "3          NaN\n",
       "4      43349.0\n",
       "        ...   \n",
       "282        NaN\n",
       "283        NaN\n",
       "284    43143.0\n",
       "285    43936.0\n",
       "286    42553.0\n",
       "Name: DateofTermination, Length: 287, dtype: float64"
      ]
     },
     "execution_count": 5,
     "metadata": {},
     "output_type": "execute_result"
    }
   ],
   "source": [
    "data.DateofTermination"
   ]
  },
  {
   "cell_type": "markdown",
   "id": "heated-lease",
   "metadata": {},
   "source": [
    "### Profile Talent"
   ]
  },
  {
   "cell_type": "code",
   "execution_count": 6,
   "id": "racial-governor",
   "metadata": {},
   "outputs": [
    {
     "data": {
      "text/html": [
       "<div>\n",
       "<style scoped>\n",
       "    .dataframe tbody tr th:only-of-type {\n",
       "        vertical-align: middle;\n",
       "    }\n",
       "\n",
       "    .dataframe tbody tr th {\n",
       "        vertical-align: top;\n",
       "    }\n",
       "\n",
       "    .dataframe thead th {\n",
       "        text-align: right;\n",
       "    }\n",
       "</style>\n",
       "<table border=\"1\" class=\"dataframe\">\n",
       "  <thead>\n",
       "    <tr style=\"text-align: right;\">\n",
       "      <th></th>\n",
       "      <th>RoleID</th>\n",
       "      <th>Count</th>\n",
       "    </tr>\n",
       "  </thead>\n",
       "  <tbody>\n",
       "    <tr>\n",
       "      <th>0</th>\n",
       "      <td>Back End Developer</td>\n",
       "      <td>107</td>\n",
       "    </tr>\n",
       "    <tr>\n",
       "      <th>1</th>\n",
       "      <td>Front End Developer</td>\n",
       "      <td>70</td>\n",
       "    </tr>\n",
       "    <tr>\n",
       "      <th>2</th>\n",
       "      <td>Mobile Developer Android</td>\n",
       "      <td>24</td>\n",
       "    </tr>\n",
       "    <tr>\n",
       "      <th>3</th>\n",
       "      <td>Product Owner</td>\n",
       "      <td>17</td>\n",
       "    </tr>\n",
       "    <tr>\n",
       "      <th>4</th>\n",
       "      <td>Business Analyst</td>\n",
       "      <td>16</td>\n",
       "    </tr>\n",
       "    <tr>\n",
       "      <th>5</th>\n",
       "      <td>UI Designer</td>\n",
       "      <td>15</td>\n",
       "    </tr>\n",
       "    <tr>\n",
       "      <th>6</th>\n",
       "      <td>System Documentation</td>\n",
       "      <td>10</td>\n",
       "    </tr>\n",
       "    <tr>\n",
       "      <th>7</th>\n",
       "      <td>UX Designer</td>\n",
       "      <td>9</td>\n",
       "    </tr>\n",
       "    <tr>\n",
       "      <th>8</th>\n",
       "      <td>UX Writer</td>\n",
       "      <td>4</td>\n",
       "    </tr>\n",
       "    <tr>\n",
       "      <th>9</th>\n",
       "      <td>Scrum Master</td>\n",
       "      <td>3</td>\n",
       "    </tr>\n",
       "    <tr>\n",
       "      <th>10</th>\n",
       "      <td>Mobile Developer iOS</td>\n",
       "      <td>3</td>\n",
       "    </tr>\n",
       "    <tr>\n",
       "      <th>11</th>\n",
       "      <td>DevOps Engineer</td>\n",
       "      <td>3</td>\n",
       "    </tr>\n",
       "    <tr>\n",
       "      <th>12</th>\n",
       "      <td>Digital Product Manager</td>\n",
       "      <td>2</td>\n",
       "    </tr>\n",
       "    <tr>\n",
       "      <th>13</th>\n",
       "      <td>Artificial Intelligent</td>\n",
       "      <td>2</td>\n",
       "    </tr>\n",
       "    <tr>\n",
       "      <th>14</th>\n",
       "      <td>UX Researcher</td>\n",
       "      <td>1</td>\n",
       "    </tr>\n",
       "    <tr>\n",
       "      <th>15</th>\n",
       "      <td>Software Architect</td>\n",
       "      <td>1</td>\n",
       "    </tr>\n",
       "  </tbody>\n",
       "</table>\n",
       "</div>"
      ],
      "text/plain": [
       "                      RoleID  Count\n",
       "0         Back End Developer    107\n",
       "1        Front End Developer     70\n",
       "2   Mobile Developer Android     24\n",
       "3              Product Owner     17\n",
       "4           Business Analyst     16\n",
       "5                UI Designer     15\n",
       "6       System Documentation     10\n",
       "7                UX Designer      9\n",
       "8                  UX Writer      4\n",
       "9               Scrum Master      3\n",
       "10      Mobile Developer iOS      3\n",
       "11           DevOps Engineer      3\n",
       "12   Digital Product Manager      2\n",
       "13    Artificial Intelligent      2\n",
       "14             UX Researcher      1\n",
       "15        Software Architect      1"
      ]
     },
     "execution_count": 6,
     "metadata": {},
     "output_type": "execute_result"
    }
   ],
   "source": [
    "data_talent_active_and_vt = \"\"\"SELECT RoleID, COUNT(*) AS Count\n",
    "                            FROM data\n",
    "                            GROUP BY RoleID\n",
    "                            ORDER BY count DESC\"\"\"\n",
    "ps.sqldf(data_talent_active_and_vt)"
   ]
  },
  {
   "cell_type": "code",
   "execution_count": 7,
   "id": "robust-transsexual",
   "metadata": {},
   "outputs": [
    {
     "name": "stderr",
     "output_type": "stream",
     "text": [
      "findfont: Font family ['helvetica'] not found. Falling back to DejaVu Sans.\n"
     ]
    },
    {
     "data": {
      "image/png": "[encoded data removed]",
      "text/plain": [
       "<Figure size 1080x540 with 1 Axes>"
      ]
     },
     "metadata": {
      "needs_background": "light"
     },
     "output_type": "display_data"
    }
   ],
   "source": [
    "plt.figure(figsize=(15,7.5)) #figsize must be applied before plotting the graph\n",
    "plt.xticks(rotation='vertical') #text rotation for readability\n",
    "\n",
    "color_blind_palette = [\"#DC267F\", \"#785EF0\", \"#648FFF\", \"#FE6100\", \"#FFB000\", \"#E80E8D\", \"#2E8766\", \"#95ABAC\", \"#65B925\", \"#906A42\", \"#C4D537\", \"#344A52\", \"#6C6E06\", \"#1C4DD2\", \"#216E00\", \"#2E03E5\", \"#A94424\", \"#7F6EA9\", \"#9B8453\", \"#380721\"]\n",
    "\n",
    "plot_roleid = sns.barplot(x=data['RoleID'].value_counts().head(20).index,\n",
    "                                  y=data['RoleID'].value_counts().head(20).values, palette=color_blind_palette)\n",
    "\n",
    "plt.xlabel('RoleID', fontsize=12.5)\n",
    "plt.ylabel('Count', rotation=0, ha='right', fontsize=12.5)\n",
    "plt.figtext(.5,.9,\"Count of Tallent Profile By RoleID\", fontsize=20, fontweight='bold', fontname='helvetica', ha='center') #formatted title\n",
    "\n",
    "for patch in plot_roleid.patches:\n",
    "    plot_roleid.annotate(\"%.0f\" % patch.get_height(), (patch.get_x() + patch.get_width() / 2., patch.get_height()),\n",
    "                 ha='center', va='center', fontsize=10, color='black', xytext=(0, 5),\n",
    "                 textcoords='offset points')\n",
    "\n",
    "plt.show()\n"
   ]
  },
  {
   "cell_type": "markdown",
   "id": "celtic-glasgow",
   "metadata": {},
   "source": [
    "Informasi di atas menunjukan profil dari talent pada semua role dari semua jenis EmplymentStatus. Mari kita lihat jumlah role dari masing-masing talent yang EmploymentStatus-nya 'Active'. "
   ]
  },
  {
   "cell_type": "code",
   "execution_count": 8,
   "id": "interstate-mainstream",
   "metadata": {},
   "outputs": [
    {
     "data": {
      "text/html": [
       "<div>\n",
       "<style scoped>\n",
       "    .dataframe tbody tr th:only-of-type {\n",
       "        vertical-align: middle;\n",
       "    }\n",
       "\n",
       "    .dataframe tbody tr th {\n",
       "        vertical-align: top;\n",
       "    }\n",
       "\n",
       "    .dataframe thead th {\n",
       "        text-align: right;\n",
       "    }\n",
       "</style>\n",
       "<table border=\"1\" class=\"dataframe\">\n",
       "  <thead>\n",
       "    <tr style=\"text-align: right;\">\n",
       "      <th></th>\n",
       "      <th>EmploymentStatus</th>\n",
       "      <th>Count</th>\n",
       "    </tr>\n",
       "  </thead>\n",
       "  <tbody>\n",
       "    <tr>\n",
       "      <th>0</th>\n",
       "      <td>Active</td>\n",
       "      <td>194</td>\n",
       "    </tr>\n",
       "    <tr>\n",
       "      <th>1</th>\n",
       "      <td>Voluntarily Terminated</td>\n",
       "      <td>79</td>\n",
       "    </tr>\n",
       "    <tr>\n",
       "      <th>2</th>\n",
       "      <td>Terminated for Cause</td>\n",
       "      <td>14</td>\n",
       "    </tr>\n",
       "  </tbody>\n",
       "</table>\n",
       "</div>"
      ],
      "text/plain": [
       "         EmploymentStatus  Count\n",
       "0                  Active    194\n",
       "1  Voluntarily Terminated     79\n",
       "2    Terminated for Cause     14"
      ]
     },
     "execution_count": 8,
     "metadata": {},
     "output_type": "execute_result"
    }
   ],
   "source": [
    "data_talent_employment_status = \"\"\"SELECT EmploymentStatus, COUNT(*) AS Count\n",
    "                                    FROM data\n",
    "                                    GROUP BY EmploymentStatus\n",
    "                                    ORDER BY count DESC\"\"\"\n",
    "ps.sqldf(data_talent_employment_status)"
   ]
  },
  {
   "cell_type": "code",
   "execution_count": 9,
   "id": "czech-burke",
   "metadata": {},
   "outputs": [
    {
     "data": {
      "text/html": [
       "<div>\n",
       "<style scoped>\n",
       "    .dataframe tbody tr th:only-of-type {\n",
       "        vertical-align: middle;\n",
       "    }\n",
       "\n",
       "    .dataframe tbody tr th {\n",
       "        vertical-align: top;\n",
       "    }\n",
       "\n",
       "    .dataframe thead th {\n",
       "        text-align: right;\n",
       "    }\n",
       "</style>\n",
       "<table border=\"1\" class=\"dataframe\">\n",
       "  <thead>\n",
       "    <tr style=\"text-align: right;\">\n",
       "      <th></th>\n",
       "      <th>RoleID</th>\n",
       "      <th>Active</th>\n",
       "    </tr>\n",
       "  </thead>\n",
       "  <tbody>\n",
       "    <tr>\n",
       "      <th>0</th>\n",
       "      <td>Back End Developer</td>\n",
       "      <td>71</td>\n",
       "    </tr>\n",
       "    <tr>\n",
       "      <th>1</th>\n",
       "      <td>Front End Developer</td>\n",
       "      <td>44</td>\n",
       "    </tr>\n",
       "    <tr>\n",
       "      <th>2</th>\n",
       "      <td>Mobile Developer Android</td>\n",
       "      <td>19</td>\n",
       "    </tr>\n",
       "    <tr>\n",
       "      <th>3</th>\n",
       "      <td>Business Analyst</td>\n",
       "      <td>13</td>\n",
       "    </tr>\n",
       "    <tr>\n",
       "      <th>4</th>\n",
       "      <td>Product Owner</td>\n",
       "      <td>12</td>\n",
       "    </tr>\n",
       "    <tr>\n",
       "      <th>5</th>\n",
       "      <td>UI Designer</td>\n",
       "      <td>9</td>\n",
       "    </tr>\n",
       "    <tr>\n",
       "      <th>6</th>\n",
       "      <td>UX Designer</td>\n",
       "      <td>7</td>\n",
       "    </tr>\n",
       "    <tr>\n",
       "      <th>7</th>\n",
       "      <td>System Documentation</td>\n",
       "      <td>6</td>\n",
       "    </tr>\n",
       "    <tr>\n",
       "      <th>8</th>\n",
       "      <td>UX Writer</td>\n",
       "      <td>3</td>\n",
       "    </tr>\n",
       "    <tr>\n",
       "      <th>9</th>\n",
       "      <td>Mobile Developer iOS</td>\n",
       "      <td>3</td>\n",
       "    </tr>\n",
       "    <tr>\n",
       "      <th>10</th>\n",
       "      <td>DevOps Engineer</td>\n",
       "      <td>3</td>\n",
       "    </tr>\n",
       "    <tr>\n",
       "      <th>11</th>\n",
       "      <td>UX Researcher</td>\n",
       "      <td>1</td>\n",
       "    </tr>\n",
       "    <tr>\n",
       "      <th>12</th>\n",
       "      <td>Software Architect</td>\n",
       "      <td>1</td>\n",
       "    </tr>\n",
       "    <tr>\n",
       "      <th>13</th>\n",
       "      <td>Digital Product Manager</td>\n",
       "      <td>1</td>\n",
       "    </tr>\n",
       "    <tr>\n",
       "      <th>14</th>\n",
       "      <td>Artificial Intelligent</td>\n",
       "      <td>1</td>\n",
       "    </tr>\n",
       "  </tbody>\n",
       "</table>\n",
       "</div>"
      ],
      "text/plain": [
       "                      RoleID  Active\n",
       "0         Back End Developer      71\n",
       "1        Front End Developer      44\n",
       "2   Mobile Developer Android      19\n",
       "3           Business Analyst      13\n",
       "4              Product Owner      12\n",
       "5                UI Designer       9\n",
       "6                UX Designer       7\n",
       "7       System Documentation       6\n",
       "8                  UX Writer       3\n",
       "9       Mobile Developer iOS       3\n",
       "10           DevOps Engineer       3\n",
       "11             UX Researcher       1\n",
       "12        Software Architect       1\n",
       "13   Digital Product Manager       1\n",
       "14    Artificial Intelligent       1"
      ]
     },
     "execution_count": 9,
     "metadata": {},
     "output_type": "execute_result"
    }
   ],
   "source": [
    "data_talent_active = ps.sqldf(\"\"\"SELECT RoleID, COUNT (*) Active\n",
    "                        FROM data\n",
    "                        WHERE EmploymentStatus = 'Active'\n",
    "                        GROUP BY RoleID\n",
    "                        ORDER BY active DESC\"\"\")\n",
    "data_talent_active_roleid = pd.DataFrame(data_talent_active, columns = ['RoleID', 'Active'])\n",
    "data_talent_active_roleid[['RoleID', 'Active']]"
   ]
  },
  {
   "cell_type": "code",
   "execution_count": 10,
   "id": "eight-hormone",
   "metadata": {},
   "outputs": [
    {
     "name": "stderr",
     "output_type": "stream",
     "text": [
      "c:\\users\\novrianti\\appdata\\local\\programs\\python\\python39\\lib\\site-packages\\seaborn\\_decorators.py:36: FutureWarning: Pass the following variables as keyword args: x, y. From version 0.12, the only valid positional argument will be `data`, and passing other arguments without an explicit keyword will result in an error or misinterpretation.\n",
      "  warnings.warn(\n"
     ]
    },
    {
     "data": {
      "image/png": "[encoded data removed]",
      "text/plain": [
       "<Figure size 1080x540 with 1 Axes>"
      ]
     },
     "metadata": {
      "needs_background": "light"
     },
     "output_type": "display_data"
    }
   ],
   "source": [
    "plt.figure(figsize=(15,7.5)) \n",
    "plt.xticks(rotation='vertical') \n",
    "\n",
    "color_blind_palette = [\"#DC267F\", \"#785EF0\", \"#648FFF\", \"#FE6100\", \"#FFB000\", \"#E80E8D\", \"#2E8766\", \"#95ABAC\", \"#65B925\", \"#906A42\", \"#C4D537\", \"#344A52\", \"#6C6E06\", \"#1C4DD2\", \"#216E00\", \"#2E03E5\", \"#A94424\", \"#7F6EA9\", \"#9B8453\", \"#380721\"]\n",
    "\n",
    "plot_data_talent_active_roleid = sns.barplot(data_talent_active_roleid['RoleID'],data_talent_active_roleid['Active'])\n",
    "                                  \n",
    "\n",
    "plt.xlabel('RoleID', fontsize=12.5)\n",
    "plt.ylabel('Active', rotation=0, ha='right', fontsize=12.5)\n",
    "plt.figtext(.5,.9,\"Count of Talent Profile By RoleID and EmploymentStatus is 'Active'\", fontsize=20, fontweight='bold', fontname='helvetica', ha='center') #formatted title\n",
    "\n",
    "for patch in plot_data_talent_active_roleid.patches:\n",
    "    plot_data_talent_active_roleid.annotate(\"%.0f\" % patch.get_height(), (patch.get_x() + patch.get_width() / 2., patch.get_height()),\n",
    "                 ha='center', va='center', fontsize=10, color='black', xytext=(0, 5),\n",
    "                 textcoords='offset points')\n",
    "\n",
    "plt.show()\n"
   ]
  },
  {
   "cell_type": "markdown",
   "id": "monthly-poland",
   "metadata": {},
   "source": [
    "RoleID diurutan pertama yaitu Back End Developer, kemudian Front End Developer, dan diikuti oleh Mobile Developer Android."
   ]
  },
  {
   "cell_type": "code",
   "execution_count": 11,
   "id": "uniform-bacon",
   "metadata": {},
   "outputs": [
    {
     "data": {
      "text/html": [
       "<div>\n",
       "<style scoped>\n",
       "    .dataframe tbody tr th:only-of-type {\n",
       "        vertical-align: middle;\n",
       "    }\n",
       "\n",
       "    .dataframe tbody tr th {\n",
       "        vertical-align: top;\n",
       "    }\n",
       "\n",
       "    .dataframe thead th {\n",
       "        text-align: right;\n",
       "    }\n",
       "</style>\n",
       "<table border=\"1\" class=\"dataframe\">\n",
       "  <thead>\n",
       "    <tr style=\"text-align: right;\">\n",
       "      <th></th>\n",
       "      <th>LevelID</th>\n",
       "      <th>Count</th>\n",
       "    </tr>\n",
       "  </thead>\n",
       "  <tbody>\n",
       "    <tr>\n",
       "      <th>0</th>\n",
       "      <td>Junior</td>\n",
       "      <td>111</td>\n",
       "    </tr>\n",
       "    <tr>\n",
       "      <th>1</th>\n",
       "      <td>Middle</td>\n",
       "      <td>49</td>\n",
       "    </tr>\n",
       "    <tr>\n",
       "      <th>2</th>\n",
       "      <td>Senior</td>\n",
       "      <td>34</td>\n",
       "    </tr>\n",
       "  </tbody>\n",
       "</table>\n",
       "</div>"
      ],
      "text/plain": [
       "  LevelID  Count\n",
       "0  Junior    111\n",
       "1  Middle     49\n",
       "2  Senior     34"
      ]
     },
     "execution_count": 11,
     "metadata": {},
     "output_type": "execute_result"
    }
   ],
   "source": [
    "data_talent_by_level = ps.sqldf(\"\"\"SELECT LevelID, COUNT (*) AS Count\n",
    "                            FROM data\n",
    "                            WHERE EmploymentStatus = 'Active'\n",
    "                            GROUP BY LevelID \n",
    "                            ORDER BY count DESC\"\"\")\n",
    "data_talent_by_all_level = pd.DataFrame(data_talent_by_level, columns = ['LevelID', 'Count'])\n",
    "data_talent_by_all_level[['LevelID', 'Count']]"
   ]
  },
  {
   "cell_type": "code",
   "execution_count": 12,
   "id": "everyday-conservative",
   "metadata": {},
   "outputs": [
    {
     "name": "stderr",
     "output_type": "stream",
     "text": [
      "c:\\users\\novrianti\\appdata\\local\\programs\\python\\python39\\lib\\site-packages\\seaborn\\_decorators.py:36: FutureWarning: Pass the following variables as keyword args: x, y. From version 0.12, the only valid positional argument will be `data`, and passing other arguments without an explicit keyword will result in an error or misinterpretation.\n",
      "  warnings.warn(\n"
     ]
    },
    {
     "data": {
      "image/png": "[encoded data removed]",
      "text/plain": [
       "<Figure size 1080x540 with 1 Axes>"
      ]
     },
     "metadata": {
      "needs_background": "light"
     },
     "output_type": "display_data"
    }
   ],
   "source": [
    "plt.figure(figsize=(15,7.5)) #figsize must be applied before plotting the graph\n",
    "plt.xticks(rotation='vertical') #text rotation for readability\n",
    "\n",
    "color_blind_palette = [\"#DC267F\", \"#785EF0\", \"#648FFF\", \"#FE6100\", \"#FFB000\", \"#E80E8D\", \"#2E8766\", \"#95ABAC\", \"#65B925\", \"#906A42\", \"#C4D537\", \"#344A52\", \"#6C6E06\", \"#1C4DD2\", \"#216E00\", \"#2E03E5\", \"#A94424\", \"#7F6EA9\", \"#9B8453\", \"#380721\"]\n",
    "\n",
    "plot_data_talent_by_all_level = sns.barplot(data_talent_by_all_level['LevelID'],data_talent_by_all_level['Count'])\n",
    "                                  \n",
    "\n",
    "plt.xlabel('LevelID', fontsize=12.5)\n",
    "plt.ylabel('Count', rotation=0, ha='right', fontsize=12.5)\n",
    "plt.figtext(.5,.9,\"Count of Talent Profile By LevelID and EmploymentStatus is 'Active'\", fontsize=20, fontweight='bold', fontname='helvetica', ha='center') #formatted title\n",
    "\n",
    "for patch in plot_data_talent_by_all_level.patches:\n",
    "    plot_data_talent_by_all_level.annotate(\"%.0f\" % patch.get_height(), (patch.get_x() + patch.get_width() / 2., patch.get_height()),\n",
    "                 ha='center', va='center', fontsize=10, color='black', xytext=(0, 5),\n",
    "                 textcoords='offset points')\n",
    "\n",
    "plt.show()"
   ]
  },
  {
   "cell_type": "markdown",
   "id": "egyptian-coast",
   "metadata": {},
   "source": [
    "Terlihat bahwa jumlah junior lebih banyak, kemudian middle level, lalu senior level. "
   ]
  },
  {
   "cell_type": "code",
   "execution_count": 13,
   "id": "accessible-anime",
   "metadata": {},
   "outputs": [
    {
     "data": {
      "text/html": [
       "<div>\n",
       "<style scoped>\n",
       "    .dataframe tbody tr th:only-of-type {\n",
       "        vertical-align: middle;\n",
       "    }\n",
       "\n",
       "    .dataframe tbody tr th {\n",
       "        vertical-align: top;\n",
       "    }\n",
       "\n",
       "    .dataframe thead th {\n",
       "        text-align: right;\n",
       "    }\n",
       "</style>\n",
       "<table border=\"1\" class=\"dataframe\">\n",
       "  <thead>\n",
       "    <tr style=\"text-align: right;\">\n",
       "      <th></th>\n",
       "      <th>RoleID</th>\n",
       "      <th>Junior</th>\n",
       "    </tr>\n",
       "  </thead>\n",
       "  <tbody>\n",
       "    <tr>\n",
       "      <th>0</th>\n",
       "      <td>Back End Developer</td>\n",
       "      <td>41</td>\n",
       "    </tr>\n",
       "    <tr>\n",
       "      <th>1</th>\n",
       "      <td>Front End Developer</td>\n",
       "      <td>21</td>\n",
       "    </tr>\n",
       "    <tr>\n",
       "      <th>2</th>\n",
       "      <td>Mobile Developer Android</td>\n",
       "      <td>10</td>\n",
       "    </tr>\n",
       "    <tr>\n",
       "      <th>3</th>\n",
       "      <td>Business Analyst</td>\n",
       "      <td>8</td>\n",
       "    </tr>\n",
       "    <tr>\n",
       "      <th>4</th>\n",
       "      <td>UX Designer</td>\n",
       "      <td>7</td>\n",
       "    </tr>\n",
       "    <tr>\n",
       "      <th>5</th>\n",
       "      <td>UI Designer</td>\n",
       "      <td>6</td>\n",
       "    </tr>\n",
       "    <tr>\n",
       "      <th>6</th>\n",
       "      <td>System Documentation</td>\n",
       "      <td>5</td>\n",
       "    </tr>\n",
       "    <tr>\n",
       "      <th>7</th>\n",
       "      <td>Product Owner</td>\n",
       "      <td>5</td>\n",
       "    </tr>\n",
       "    <tr>\n",
       "      <th>8</th>\n",
       "      <td>UX Writer</td>\n",
       "      <td>2</td>\n",
       "    </tr>\n",
       "    <tr>\n",
       "      <th>9</th>\n",
       "      <td>DevOps Engineer</td>\n",
       "      <td>2</td>\n",
       "    </tr>\n",
       "    <tr>\n",
       "      <th>10</th>\n",
       "      <td>UX Researcher</td>\n",
       "      <td>1</td>\n",
       "    </tr>\n",
       "    <tr>\n",
       "      <th>11</th>\n",
       "      <td>Mobile Developer iOS</td>\n",
       "      <td>1</td>\n",
       "    </tr>\n",
       "    <tr>\n",
       "      <th>12</th>\n",
       "      <td>Digital Product Manager</td>\n",
       "      <td>1</td>\n",
       "    </tr>\n",
       "    <tr>\n",
       "      <th>13</th>\n",
       "      <td>Artificial Intelligent</td>\n",
       "      <td>1</td>\n",
       "    </tr>\n",
       "  </tbody>\n",
       "</table>\n",
       "</div>"
      ],
      "text/plain": [
       "                      RoleID  Junior\n",
       "0         Back End Developer      41\n",
       "1        Front End Developer      21\n",
       "2   Mobile Developer Android      10\n",
       "3           Business Analyst       8\n",
       "4                UX Designer       7\n",
       "5                UI Designer       6\n",
       "6       System Documentation       5\n",
       "7              Product Owner       5\n",
       "8                  UX Writer       2\n",
       "9            DevOps Engineer       2\n",
       "10             UX Researcher       1\n",
       "11      Mobile Developer iOS       1\n",
       "12   Digital Product Manager       1\n",
       "13    Artificial Intelligent       1"
      ]
     },
     "execution_count": 13,
     "metadata": {},
     "output_type": "execute_result"
    }
   ],
   "source": [
    "data_role_by_level_junior = ps.sqldf(\"\"\"SELECT RoleID, COUNT (*) AS Junior\n",
    "                                FROM data\n",
    "                                WHERE LevelID = 'Junior' AND EmploymentStatus = 'Active'\n",
    "                                GROUP BY RoleID\n",
    "                                ORDER BY junior DESC\"\"\")\n",
    "data_role_by_level_junior = pd.DataFrame(data_role_by_level_junior, columns = ['RoleID', 'Junior'])\n",
    "data_role_by_level_junior[['RoleID', 'Junior']]"
   ]
  },
  {
   "cell_type": "code",
   "execution_count": 14,
   "id": "interracial-implement",
   "metadata": {},
   "outputs": [
    {
     "name": "stderr",
     "output_type": "stream",
     "text": [
      "c:\\users\\novrianti\\appdata\\local\\programs\\python\\python39\\lib\\site-packages\\seaborn\\_decorators.py:36: FutureWarning: Pass the following variables as keyword args: x, y. From version 0.12, the only valid positional argument will be `data`, and passing other arguments without an explicit keyword will result in an error or misinterpretation.\n",
      "  warnings.warn(\n"
     ]
    },
    {
     "data": {
      "image/png": "[encoded data removed]",
      "text/plain": [
       "<Figure size 1080x540 with 1 Axes>"
      ]
     },
     "metadata": {
      "needs_background": "light"
     },
     "output_type": "display_data"
    }
   ],
   "source": [
    "plt.figure(figsize=(15,7.5)) \n",
    "plt.xticks(rotation='vertical') \n",
    "\n",
    "color_blind_palette = [\"#DC267F\", \"#785EF0\", \"#648FFF\", \"#FE6100\", \"#FFB000\", \"#E80E8D\", \"#2E8766\", \"#95ABAC\", \"#65B925\", \"#906A42\", \"#C4D537\", \"#344A52\", \"#6C6E06\", \"#1C4DD2\", \"#216E00\", \"#2E03E5\", \"#A94424\", \"#7F6EA9\", \"#9B8453\", \"#380721\"]\n",
    "\n",
    "plot_data_role_by_level_junior = sns.barplot(data_role_by_level_junior['RoleID'],data_role_by_level_junior['Junior'])\n",
    "                                  \n",
    "\n",
    "plt.xlabel('RoleID', fontsize=12.5)\n",
    "plt.ylabel('Junior', rotation=0, ha='right', fontsize=12.5)\n",
    "plt.figtext(.5,.9,\"Count of RoleID By LevelID is 'Junior' and EmploymentStatus is 'Active'\", fontsize=20, fontweight='bold', fontname='helvetica', ha='center') #formatted title\n",
    "\n",
    "for patch in plot_data_role_by_level_junior.patches:\n",
    "    plot_data_role_by_level_junior.annotate(\"%.0f\" % patch.get_height(), (patch.get_x() + patch.get_width() / 2., patch.get_height()),\n",
    "                 ha='center', va='center', fontsize=10, color='black', xytext=(0, 5),\n",
    "                 textcoords='offset points')\n",
    "\n",
    "plt.show()"
   ]
  },
  {
   "cell_type": "markdown",
   "id": "proof-husband",
   "metadata": {},
   "source": [
    "Posisi Back End Developer menjadi role yang memiliki talent terbanyak bahkan di LevelID 'Junior'"
   ]
  },
  {
   "cell_type": "code",
   "execution_count": 15,
   "id": "modified-vault",
   "metadata": {},
   "outputs": [
    {
     "data": {
      "text/html": [
       "<div>\n",
       "<style scoped>\n",
       "    .dataframe tbody tr th:only-of-type {\n",
       "        vertical-align: middle;\n",
       "    }\n",
       "\n",
       "    .dataframe tbody tr th {\n",
       "        vertical-align: top;\n",
       "    }\n",
       "\n",
       "    .dataframe thead th {\n",
       "        text-align: right;\n",
       "    }\n",
       "</style>\n",
       "<table border=\"1\" class=\"dataframe\">\n",
       "  <thead>\n",
       "    <tr style=\"text-align: right;\">\n",
       "      <th></th>\n",
       "      <th>RoleID</th>\n",
       "      <th>Middle</th>\n",
       "    </tr>\n",
       "  </thead>\n",
       "  <tbody>\n",
       "    <tr>\n",
       "      <th>0</th>\n",
       "      <td>Back End Developer</td>\n",
       "      <td>15</td>\n",
       "    </tr>\n",
       "    <tr>\n",
       "      <th>1</th>\n",
       "      <td>Front End Developer</td>\n",
       "      <td>13</td>\n",
       "    </tr>\n",
       "    <tr>\n",
       "      <th>2</th>\n",
       "      <td>Product Owner</td>\n",
       "      <td>5</td>\n",
       "    </tr>\n",
       "    <tr>\n",
       "      <th>3</th>\n",
       "      <td>Mobile Developer Android</td>\n",
       "      <td>5</td>\n",
       "    </tr>\n",
       "    <tr>\n",
       "      <th>4</th>\n",
       "      <td>Business Analyst</td>\n",
       "      <td>5</td>\n",
       "    </tr>\n",
       "    <tr>\n",
       "      <th>5</th>\n",
       "      <td>Mobile Developer iOS</td>\n",
       "      <td>2</td>\n",
       "    </tr>\n",
       "    <tr>\n",
       "      <th>6</th>\n",
       "      <td>UI Designer</td>\n",
       "      <td>1</td>\n",
       "    </tr>\n",
       "    <tr>\n",
       "      <th>7</th>\n",
       "      <td>System Documentation</td>\n",
       "      <td>1</td>\n",
       "    </tr>\n",
       "    <tr>\n",
       "      <th>8</th>\n",
       "      <td>Software Architect</td>\n",
       "      <td>1</td>\n",
       "    </tr>\n",
       "    <tr>\n",
       "      <th>9</th>\n",
       "      <td>DevOps Engineer</td>\n",
       "      <td>1</td>\n",
       "    </tr>\n",
       "  </tbody>\n",
       "</table>\n",
       "</div>"
      ],
      "text/plain": [
       "                     RoleID  Middle\n",
       "0        Back End Developer      15\n",
       "1       Front End Developer      13\n",
       "2             Product Owner       5\n",
       "3  Mobile Developer Android       5\n",
       "4          Business Analyst       5\n",
       "5      Mobile Developer iOS       2\n",
       "6               UI Designer       1\n",
       "7      System Documentation       1\n",
       "8        Software Architect       1\n",
       "9           DevOps Engineer       1"
      ]
     },
     "execution_count": 15,
     "metadata": {},
     "output_type": "execute_result"
    }
   ],
   "source": [
    "data_role_by_level_middle = ps.sqldf(\"\"\"SELECT RoleID, COUNT (*) AS Middle\n",
    "                                FROM data\n",
    "                                WHERE LevelID = 'Middle' AND EmploymentStatus = 'Active'\n",
    "                                GROUP BY RoleID\n",
    "                                ORDER BY middle DESC\"\"\")\n",
    "data_role_by_level_middle = pd.DataFrame(data_role_by_level_middle, columns = ['RoleID', 'Middle'])\n",
    "data_role_by_level_middle[['RoleID', 'Middle']]"
   ]
  },
  {
   "cell_type": "code",
   "execution_count": 16,
   "id": "rising-cabinet",
   "metadata": {},
   "outputs": [
    {
     "name": "stderr",
     "output_type": "stream",
     "text": [
      "c:\\users\\novrianti\\appdata\\local\\programs\\python\\python39\\lib\\site-packages\\seaborn\\_decorators.py:36: FutureWarning: Pass the following variables as keyword args: x, y. From version 0.12, the only valid positional argument will be `data`, and passing other arguments without an explicit keyword will result in an error or misinterpretation.\n",
      "  warnings.warn(\n"
     ]
    },
    {
     "data": {
      "image/png": "[encoded data removed]",
      "text/plain": [
       "<Figure size 1080x540 with 1 Axes>"
      ]
     },
     "metadata": {
      "needs_background": "light"
     },
     "output_type": "display_data"
    }
   ],
   "source": [
    "plt.figure(figsize=(15,7.5)) \n",
    "plt.xticks(rotation='vertical') \n",
    "\n",
    "color_blind_palette = [\"#DC267F\", \"#785EF0\", \"#648FFF\", \"#FE6100\", \"#FFB000\", \"#E80E8D\", \"#2E8766\", \"#95ABAC\", \"#65B925\", \"#906A42\", \"#C4D537\", \"#344A52\", \"#6C6E06\", \"#1C4DD2\", \"#216E00\", \"#2E03E5\", \"#A94424\", \"#7F6EA9\", \"#9B8453\", \"#380721\"]\n",
    "\n",
    "plot_data_role_by_level_middle = sns.barplot(data_role_by_level_middle['RoleID'],data_role_by_level_middle['Middle'])\n",
    "                                  \n",
    "\n",
    "plt.xlabel('RoleID', fontsize=12.5)\n",
    "plt.ylabel('Middle', rotation=0, ha='right', fontsize=12.5)\n",
    "plt.figtext(.5,.9,\"Count of RoleID By LevelID is 'Middle' and EmploymentStatus is 'Active'\", fontsize=20, fontweight='bold', fontname='helvetica', ha='center') #formatted title\n",
    "\n",
    "for patch in plot_data_role_by_level_middle.patches:\n",
    "    plot_data_role_by_level_middle.annotate(\"%.0f\" % patch.get_height(), (patch.get_x() + patch.get_width() / 2., patch.get_height()),\n",
    "                 ha='center', va='center', fontsize=10, color='black', xytext=(0, 5),\n",
    "                 textcoords='offset points')\n",
    "\n",
    "plt.show()"
   ]
  },
  {
   "cell_type": "markdown",
   "id": "egyptian-mortgage",
   "metadata": {},
   "source": [
    "Berbeda dengan level junior, pada level middle selisih antara Back End dan Front End Developer hanya berbeda 3 talent. "
   ]
  },
  {
   "cell_type": "code",
   "execution_count": 17,
   "id": "studied-shore",
   "metadata": {},
   "outputs": [
    {
     "data": {
      "text/html": [
       "<div>\n",
       "<style scoped>\n",
       "    .dataframe tbody tr th:only-of-type {\n",
       "        vertical-align: middle;\n",
       "    }\n",
       "\n",
       "    .dataframe tbody tr th {\n",
       "        vertical-align: top;\n",
       "    }\n",
       "\n",
       "    .dataframe thead th {\n",
       "        text-align: right;\n",
       "    }\n",
       "</style>\n",
       "<table border=\"1\" class=\"dataframe\">\n",
       "  <thead>\n",
       "    <tr style=\"text-align: right;\">\n",
       "      <th></th>\n",
       "      <th>RoleID</th>\n",
       "      <th>Senior</th>\n",
       "    </tr>\n",
       "  </thead>\n",
       "  <tbody>\n",
       "    <tr>\n",
       "      <th>0</th>\n",
       "      <td>Back End Developer</td>\n",
       "      <td>15</td>\n",
       "    </tr>\n",
       "    <tr>\n",
       "      <th>1</th>\n",
       "      <td>Front End Developer</td>\n",
       "      <td>10</td>\n",
       "    </tr>\n",
       "    <tr>\n",
       "      <th>2</th>\n",
       "      <td>Mobile Developer Android</td>\n",
       "      <td>4</td>\n",
       "    </tr>\n",
       "    <tr>\n",
       "      <th>3</th>\n",
       "      <td>UI Designer</td>\n",
       "      <td>2</td>\n",
       "    </tr>\n",
       "    <tr>\n",
       "      <th>4</th>\n",
       "      <td>Product Owner</td>\n",
       "      <td>2</td>\n",
       "    </tr>\n",
       "    <tr>\n",
       "      <th>5</th>\n",
       "      <td>UX Writer</td>\n",
       "      <td>1</td>\n",
       "    </tr>\n",
       "  </tbody>\n",
       "</table>\n",
       "</div>"
      ],
      "text/plain": [
       "                     RoleID  Senior\n",
       "0        Back End Developer      15\n",
       "1       Front End Developer      10\n",
       "2  Mobile Developer Android       4\n",
       "3               UI Designer       2\n",
       "4             Product Owner       2\n",
       "5                 UX Writer       1"
      ]
     },
     "execution_count": 17,
     "metadata": {},
     "output_type": "execute_result"
    }
   ],
   "source": [
    "data_role_by_level_senior = ps.sqldf(\"\"\"SELECT RoleID, COUNT (*) AS Senior\n",
    "                                FROM data\n",
    "                                WHERE LevelID = 'Senior' AND EmploymentStatus = 'Active'\n",
    "                                GROUP BY RoleID\n",
    "                                ORDER BY senior DESC\"\"\")\n",
    "data_role_by_level_senior = pd.DataFrame(data_role_by_level_senior, columns = ['RoleID', 'Senior'])\n",
    "data_role_by_level_senior[['RoleID', 'Senior']]"
   ]
  },
  {
   "cell_type": "code",
   "execution_count": 18,
   "id": "permanent-copying",
   "metadata": {},
   "outputs": [
    {
     "name": "stderr",
     "output_type": "stream",
     "text": [
      "c:\\users\\novrianti\\appdata\\local\\programs\\python\\python39\\lib\\site-packages\\seaborn\\_decorators.py:36: FutureWarning: Pass the following variables as keyword args: x, y. From version 0.12, the only valid positional argument will be `data`, and passing other arguments without an explicit keyword will result in an error or misinterpretation.\n",
      "  warnings.warn(\n"
     ]
    },
    {
     "data": {
      "image/png": "[encoded data removed]",
      "text/plain": [
       "<Figure size 1080x540 with 1 Axes>"
      ]
     },
     "metadata": {
      "needs_background": "light"
     },
     "output_type": "display_data"
    }
   ],
   "source": [
    "plt.figure(figsize=(15,7.5)) \n",
    "plt.xticks(rotation='vertical') \n",
    "\n",
    "color_blind_palette = [\"#DC267F\", \"#785EF0\", \"#648FFF\", \"#FE6100\", \"#FFB000\", \"#E80E8D\", \"#2E8766\", \"#95ABAC\", \"#65B925\", \"#906A42\", \"#C4D537\", \"#344A52\", \"#6C6E06\", \"#1C4DD2\", \"#216E00\", \"#2E03E5\", \"#A94424\", \"#7F6EA9\", \"#9B8453\", \"#380721\"]\n",
    "\n",
    "plot_data_role_by_level_senior = sns.barplot(data_role_by_level_senior['RoleID'],data_role_by_level_senior['Senior'])\n",
    "                                  \n",
    "\n",
    "plt.xlabel('RoleID', fontsize=12.5)\n",
    "plt.ylabel('Senior', rotation=0, ha='right', fontsize=12.5)\n",
    "plt.figtext(.5,.9,\"Count of RoleID By LevelID is 'Senior' and EmploymentStatus is 'Active'\", fontsize=20, fontweight='bold', fontname='helvetica', ha='center') #formatted title\n",
    "\n",
    "for patch in plot_data_role_by_level_senior.patches:\n",
    "    plot_data_role_by_level_senior.annotate(\"%.0f\" % patch.get_height(), (patch.get_x() + patch.get_width() / 2., patch.get_height()),\n",
    "                 ha='center', va='center', fontsize=10, color='black', xytext=(0, 5),\n",
    "                 textcoords='offset points')\n",
    "\n",
    "plt.show()"
   ]
  },
  {
   "cell_type": "markdown",
   "id": "valid-consolidation",
   "metadata": {},
   "source": [
    "Sama halnya dengan level middle, pada level senior gap antara Back End dan Front End hanya selisih 5 talent."
   ]
  },
  {
   "cell_type": "code",
   "execution_count": 19,
   "id": "trying-advocate",
   "metadata": {},
   "outputs": [
    {
     "data": {
      "text/html": [
       "<div>\n",
       "<style scoped>\n",
       "    .dataframe tbody tr th:only-of-type {\n",
       "        vertical-align: middle;\n",
       "    }\n",
       "\n",
       "    .dataframe tbody tr th {\n",
       "        vertical-align: top;\n",
       "    }\n",
       "\n",
       "    .dataframe thead th {\n",
       "        text-align: right;\n",
       "    }\n",
       "</style>\n",
       "<table border=\"1\" class=\"dataframe\">\n",
       "  <thead>\n",
       "    <tr style=\"text-align: right;\">\n",
       "      <th></th>\n",
       "      <th>RoleID</th>\n",
       "      <th>Count_Female</th>\n",
       "    </tr>\n",
       "  </thead>\n",
       "  <tbody>\n",
       "    <tr>\n",
       "      <th>0</th>\n",
       "      <td>Back End Developer</td>\n",
       "      <td>40</td>\n",
       "    </tr>\n",
       "    <tr>\n",
       "      <th>1</th>\n",
       "      <td>Front End Developer</td>\n",
       "      <td>23</td>\n",
       "    </tr>\n",
       "    <tr>\n",
       "      <th>2</th>\n",
       "      <td>Mobile Developer Android</td>\n",
       "      <td>12</td>\n",
       "    </tr>\n",
       "    <tr>\n",
       "      <th>3</th>\n",
       "      <td>Business Analyst</td>\n",
       "      <td>8</td>\n",
       "    </tr>\n",
       "    <tr>\n",
       "      <th>4</th>\n",
       "      <td>UI Designer</td>\n",
       "      <td>5</td>\n",
       "    </tr>\n",
       "    <tr>\n",
       "      <th>5</th>\n",
       "      <td>Product Owner</td>\n",
       "      <td>5</td>\n",
       "    </tr>\n",
       "    <tr>\n",
       "      <th>6</th>\n",
       "      <td>UX Designer</td>\n",
       "      <td>4</td>\n",
       "    </tr>\n",
       "    <tr>\n",
       "      <th>7</th>\n",
       "      <td>UX Writer</td>\n",
       "      <td>3</td>\n",
       "    </tr>\n",
       "    <tr>\n",
       "      <th>8</th>\n",
       "      <td>System Documentation</td>\n",
       "      <td>3</td>\n",
       "    </tr>\n",
       "    <tr>\n",
       "      <th>9</th>\n",
       "      <td>DevOps Engineer</td>\n",
       "      <td>2</td>\n",
       "    </tr>\n",
       "    <tr>\n",
       "      <th>10</th>\n",
       "      <td>Software Architect</td>\n",
       "      <td>1</td>\n",
       "    </tr>\n",
       "    <tr>\n",
       "      <th>11</th>\n",
       "      <td>Mobile Developer iOS</td>\n",
       "      <td>1</td>\n",
       "    </tr>\n",
       "    <tr>\n",
       "      <th>12</th>\n",
       "      <td>Digital Product Manager</td>\n",
       "      <td>1</td>\n",
       "    </tr>\n",
       "    <tr>\n",
       "      <th>13</th>\n",
       "      <td>Artificial Intelligent</td>\n",
       "      <td>1</td>\n",
       "    </tr>\n",
       "  </tbody>\n",
       "</table>\n",
       "</div>"
      ],
      "text/plain": [
       "                      RoleID  Count_Female\n",
       "0         Back End Developer            40\n",
       "1        Front End Developer            23\n",
       "2   Mobile Developer Android            12\n",
       "3           Business Analyst             8\n",
       "4                UI Designer             5\n",
       "5              Product Owner             5\n",
       "6                UX Designer             4\n",
       "7                  UX Writer             3\n",
       "8       System Documentation             3\n",
       "9            DevOps Engineer             2\n",
       "10        Software Architect             1\n",
       "11      Mobile Developer iOS             1\n",
       "12   Digital Product Manager             1\n",
       "13    Artificial Intelligent             1"
      ]
     },
     "execution_count": 19,
     "metadata": {},
     "output_type": "execute_result"
    }
   ],
   "source": [
    "data_role_by_female = ps.sqldf(\"\"\"SELECT RoleID, COUNT (*) Count_Female\n",
    "                            FROM data\n",
    "                            WHERE GenderID = 'F' AND EmploymentStatus = 'Active'\n",
    "                            GROUP BY RoleID\n",
    "                            ORDER BY count_female DESC\"\"\")\n",
    "data_role_by_female = pd.DataFrame(data_role_by_female, columns = ['RoleID', 'Count_Female'])\n",
    "data_role_by_female[['RoleID', 'Count_Female']]"
   ]
  },
  {
   "cell_type": "code",
   "execution_count": 20,
   "id": "abroad-submission",
   "metadata": {},
   "outputs": [
    {
     "name": "stderr",
     "output_type": "stream",
     "text": [
      "c:\\users\\novrianti\\appdata\\local\\programs\\python\\python39\\lib\\site-packages\\seaborn\\_decorators.py:36: FutureWarning: Pass the following variables as keyword args: x, y. From version 0.12, the only valid positional argument will be `data`, and passing other arguments without an explicit keyword will result in an error or misinterpretation.\n",
      "  warnings.warn(\n"
     ]
    },
    {
     "data": {
      "image/png": "[encoded data removed]",
      "text/plain": [
       "<Figure size 1080x540 with 1 Axes>"
      ]
     },
     "metadata": {
      "needs_background": "light"
     },
     "output_type": "display_data"
    }
   ],
   "source": [
    "plt.figure(figsize=(15,7.5)) \n",
    "plt.xticks(rotation='vertical') \n",
    "\n",
    "color_blind_palette = [\"#DC267F\", \"#785EF0\", \"#648FFF\", \"#FE6100\", \"#FFB000\", \"#E80E8D\", \"#2E8766\", \"#95ABAC\", \"#65B925\", \"#906A42\", \"#C4D537\", \"#344A52\", \"#6C6E06\", \"#1C4DD2\", \"#216E00\", \"#2E03E5\", \"#A94424\", \"#7F6EA9\", \"#9B8453\", \"#380721\"]\n",
    "\n",
    "plot_data_role_by_female = sns.barplot(data_role_by_female['RoleID'],data_role_by_female['Count_Female'])\n",
    "                                  \n",
    "\n",
    "plt.xlabel('RoleID', fontsize=12.5)\n",
    "plt.ylabel('Count_Female', rotation=0, ha='right', fontsize=12.5)\n",
    "plt.figtext(.5,.9,\"Count of RoleID By GenderID is 'Female' and EmploymentStatus is 'Active'\", fontsize=20, fontweight='bold', fontname='helvetica', ha='center') #formatted title\n",
    "\n",
    "for patch in plot_data_role_by_female.patches:\n",
    "    plot_data_role_by_female.annotate(\"%.0f\" % patch.get_height(), (patch.get_x() + patch.get_width() / 2., patch.get_height()),\n",
    "                 ha='center', va='center', fontsize=10, color='black', xytext=(0, 5),\n",
    "                 textcoords='offset points')\n",
    "\n",
    "plt.show()"
   ]
  },
  {
   "cell_type": "code",
   "execution_count": 21,
   "id": "round-hurricane",
   "metadata": {},
   "outputs": [
    {
     "data": {
      "text/html": [
       "<div>\n",
       "<style scoped>\n",
       "    .dataframe tbody tr th:only-of-type {\n",
       "        vertical-align: middle;\n",
       "    }\n",
       "\n",
       "    .dataframe tbody tr th {\n",
       "        vertical-align: top;\n",
       "    }\n",
       "\n",
       "    .dataframe thead th {\n",
       "        text-align: right;\n",
       "    }\n",
       "</style>\n",
       "<table border=\"1\" class=\"dataframe\">\n",
       "  <thead>\n",
       "    <tr style=\"text-align: right;\">\n",
       "      <th></th>\n",
       "      <th>RoleID</th>\n",
       "      <th>Count_Male</th>\n",
       "    </tr>\n",
       "  </thead>\n",
       "  <tbody>\n",
       "    <tr>\n",
       "      <th>0</th>\n",
       "      <td>Back End Developer</td>\n",
       "      <td>31</td>\n",
       "    </tr>\n",
       "    <tr>\n",
       "      <th>1</th>\n",
       "      <td>Front End Developer</td>\n",
       "      <td>21</td>\n",
       "    </tr>\n",
       "    <tr>\n",
       "      <th>2</th>\n",
       "      <td>Product Owner</td>\n",
       "      <td>7</td>\n",
       "    </tr>\n",
       "    <tr>\n",
       "      <th>3</th>\n",
       "      <td>Mobile Developer Android</td>\n",
       "      <td>7</td>\n",
       "    </tr>\n",
       "    <tr>\n",
       "      <th>4</th>\n",
       "      <td>Business Analyst</td>\n",
       "      <td>5</td>\n",
       "    </tr>\n",
       "    <tr>\n",
       "      <th>5</th>\n",
       "      <td>UI Designer</td>\n",
       "      <td>4</td>\n",
       "    </tr>\n",
       "    <tr>\n",
       "      <th>6</th>\n",
       "      <td>UX Designer</td>\n",
       "      <td>3</td>\n",
       "    </tr>\n",
       "    <tr>\n",
       "      <th>7</th>\n",
       "      <td>System Documentation</td>\n",
       "      <td>3</td>\n",
       "    </tr>\n",
       "    <tr>\n",
       "      <th>8</th>\n",
       "      <td>Mobile Developer iOS</td>\n",
       "      <td>2</td>\n",
       "    </tr>\n",
       "    <tr>\n",
       "      <th>9</th>\n",
       "      <td>UX Researcher</td>\n",
       "      <td>1</td>\n",
       "    </tr>\n",
       "    <tr>\n",
       "      <th>10</th>\n",
       "      <td>DevOps Engineer</td>\n",
       "      <td>1</td>\n",
       "    </tr>\n",
       "  </tbody>\n",
       "</table>\n",
       "</div>"
      ],
      "text/plain": [
       "                      RoleID  Count_Male\n",
       "0         Back End Developer          31\n",
       "1        Front End Developer          21\n",
       "2              Product Owner           7\n",
       "3   Mobile Developer Android           7\n",
       "4           Business Analyst           5\n",
       "5                UI Designer           4\n",
       "6                UX Designer           3\n",
       "7       System Documentation           3\n",
       "8       Mobile Developer iOS           2\n",
       "9              UX Researcher           1\n",
       "10           DevOps Engineer           1"
      ]
     },
     "execution_count": 21,
     "metadata": {},
     "output_type": "execute_result"
    }
   ],
   "source": [
    "data_role_male = ps.sqldf(\"\"\"SELECT RoleID, COUNT (*) Count_Male\n",
    "                    FROM data\n",
    "                    WHERE EmploymentStatus = 'Active' AND GenderID = 'M' \n",
    "                    GROUP BY RoleID\n",
    "                    ORDER BY count_male DESC\"\"\")\n",
    "\n",
    "data_role_male = pd.DataFrame(data_role_male, columns = ['RoleID', 'Count_Male']) \n",
    "data_role_male[['RoleID', 'Count_Male']]"
   ]
  },
  {
   "cell_type": "code",
   "execution_count": 22,
   "id": "expanded-lexington",
   "metadata": {},
   "outputs": [
    {
     "name": "stderr",
     "output_type": "stream",
     "text": [
      "c:\\users\\novrianti\\appdata\\local\\programs\\python\\python39\\lib\\site-packages\\seaborn\\_decorators.py:36: FutureWarning: Pass the following variables as keyword args: x, y. From version 0.12, the only valid positional argument will be `data`, and passing other arguments without an explicit keyword will result in an error or misinterpretation.\n",
      "  warnings.warn(\n"
     ]
    },
    {
     "data": {
      "image/png": "[encoded data removed]",
      "text/plain": [
       "<Figure size 1080x540 with 1 Axes>"
      ]
     },
     "metadata": {
      "needs_background": "light"
     },
     "output_type": "display_data"
    }
   ],
   "source": [
    "plt.figure(figsize=(15,7.5)) \n",
    "plt.xticks(rotation='vertical') \n",
    "\n",
    "color_blind_palette = [\"#DC267F\", \"#785EF0\", \"#648FFF\", \"#FE6100\", \"#FFB000\", \"#E80E8D\", \"#2E8766\", \"#95ABAC\", \"#65B925\", \"#906A42\", \"#C4D537\", \"#344A52\", \"#6C6E06\", \"#1C4DD2\", \"#216E00\", \"#2E03E5\", \"#A94424\", \"#7F6EA9\", \"#9B8453\", \"#380721\"]\n",
    "\n",
    "plot_data_role_male = sns.barplot(data_role_male['RoleID'],data_role_male['Count_Male'])\n",
    "                                  \n",
    "\n",
    "plt.xlabel('RoleID', fontsize=12.5)\n",
    "plt.ylabel('Count_Male', rotation=0, ha='right', fontsize=12.5)\n",
    "plt.figtext(.5,.9,\"Count of RoleID By GenderID is 'Male' and EmploymentStatus is 'Active'\", fontsize=20, fontweight='bold', fontname='helvetica', ha='center') #formatted title\n",
    "\n",
    "for patch in plot_data_role_male.patches:\n",
    "    plot_data_role_male.annotate(\"%.0f\" % patch.get_height(), (patch.get_x() + patch.get_width() / 2., patch.get_height()),\n",
    "                 ha='center', va='center', fontsize=10, color='black', xytext=(0, 5),\n",
    "                 textcoords='offset points')\n",
    "\n",
    "plt.show()"
   ]
  },
  {
   "cell_type": "code",
   "execution_count": 23,
   "id": "turkish-seven",
   "metadata": {},
   "outputs": [
    {
     "data": {
      "text/html": [
       "<div>\n",
       "<style scoped>\n",
       "    .dataframe tbody tr th:only-of-type {\n",
       "        vertical-align: middle;\n",
       "    }\n",
       "\n",
       "    .dataframe tbody tr th {\n",
       "        vertical-align: top;\n",
       "    }\n",
       "\n",
       "    .dataframe thead th {\n",
       "        text-align: right;\n",
       "    }\n",
       "</style>\n",
       "<table border=\"1\" class=\"dataframe\">\n",
       "  <thead>\n",
       "    <tr style=\"text-align: right;\">\n",
       "      <th></th>\n",
       "      <th>GenderID</th>\n",
       "      <th>Count</th>\n",
       "    </tr>\n",
       "  </thead>\n",
       "  <tbody>\n",
       "    <tr>\n",
       "      <th>0</th>\n",
       "      <td>F</td>\n",
       "      <td>109</td>\n",
       "    </tr>\n",
       "    <tr>\n",
       "      <th>1</th>\n",
       "      <td>M</td>\n",
       "      <td>85</td>\n",
       "    </tr>\n",
       "  </tbody>\n",
       "</table>\n",
       "</div>"
      ],
      "text/plain": [
       "  GenderID  Count\n",
       "0        F    109\n",
       "1        M     85"
      ]
     },
     "execution_count": 23,
     "metadata": {},
     "output_type": "execute_result"
    }
   ],
   "source": [
    "data_talent_by_level_gender = ps.sqldf(\"\"\"SELECT GenderID, COUNT (*) AS Count\n",
    "                            FROM data\n",
    "                            WHERE EmploymentStatus = 'Active'\n",
    "                            GROUP BY GenderID\n",
    "                            ORDER BY count DESC\"\"\")\n",
    "data_by_level_gender = pd.DataFrame(data_talent_by_level_gender, columns = ['GenderID', 'Count'])\n",
    "data_by_level_gender[['GenderID', 'Count']]"
   ]
  },
  {
   "cell_type": "code",
   "execution_count": 24,
   "id": "alien-workshop",
   "metadata": {},
   "outputs": [
    {
     "data": {
      "image/png": "[encoded data removed]",
      "text/plain": [
       "<Figure size 360x360 with 1 Axes>"
      ]
     },
     "metadata": {},
     "output_type": "display_data"
    }
   ],
   "source": [
    "fig = plt.figure(figsize=[5,5])\n",
    "ax = fig.add_axes([0,0,1,1])\n",
    "ax.axis('equal')\n",
    "ax.pie(data_by_level_gender['Count'], labels=data_by_level_gender['GenderID'])\n",
    "plt.title('Gender Distribution of Talent Employee', fontsize = 20)\n",
    "plt.show()"
   ]
  },
  {
   "cell_type": "code",
   "execution_count": 25,
   "id": "leading-norman",
   "metadata": {},
   "outputs": [
    {
     "data": {
      "text/html": [
       "<div>\n",
       "<style scoped>\n",
       "    .dataframe tbody tr th:only-of-type {\n",
       "        vertical-align: middle;\n",
       "    }\n",
       "\n",
       "    .dataframe tbody tr th {\n",
       "        vertical-align: top;\n",
       "    }\n",
       "\n",
       "    .dataframe thead th {\n",
       "        text-align: right;\n",
       "    }\n",
       "</style>\n",
       "<table border=\"1\" class=\"dataframe\">\n",
       "  <thead>\n",
       "    <tr style=\"text-align: right;\">\n",
       "      <th></th>\n",
       "      <th>GenderID</th>\n",
       "      <th>Count</th>\n",
       "    </tr>\n",
       "  </thead>\n",
       "  <tbody>\n",
       "    <tr>\n",
       "      <th>0</th>\n",
       "      <td>F</td>\n",
       "      <td>26</td>\n",
       "    </tr>\n",
       "    <tr>\n",
       "      <th>1</th>\n",
       "      <td>M</td>\n",
       "      <td>8</td>\n",
       "    </tr>\n",
       "  </tbody>\n",
       "</table>\n",
       "</div>"
      ],
      "text/plain": [
       "  GenderID  Count\n",
       "0        F     26\n",
       "1        M      8"
      ]
     },
     "execution_count": 25,
     "metadata": {},
     "output_type": "execute_result"
    }
   ],
   "source": [
    "data_talent_by_level_senior = ps.sqldf(\"\"\"SELECT GenderID, COUNT (*) AS Count\n",
    "                            FROM data\n",
    "                            WHERE LevelID = 'Senior' AND EmploymentStatus = 'Active'\n",
    "                            GROUP BY GenderID\n",
    "                            ORDER BY count DESC\"\"\")\n",
    "data_by_level_gender_senior = pd.DataFrame(data_talent_by_level_senior, columns = ['GenderID', 'Count'])\n",
    "data_by_level_gender_senior[['GenderID', 'Count']]"
   ]
  },
  {
   "cell_type": "code",
   "execution_count": 26,
   "id": "norman-parallel",
   "metadata": {},
   "outputs": [
    {
     "data": {
      "image/png": "[encoded data removed]",
      "text/plain": [
       "<Figure size 360x360 with 1 Axes>"
      ]
     },
     "metadata": {},
     "output_type": "display_data"
    }
   ],
   "source": [
    "fig = plt.figure(figsize=[5,5])\n",
    "ax = fig.add_axes([0,0,1,1])\n",
    "ax.axis('equal')\n",
    "ax.pie(data_by_level_gender_senior['Count'], labels=data_by_level_gender_senior['GenderID'])\n",
    "plt.title('Gender Distribution of Senior Employee', fontsize = 20)\n",
    "plt.show()"
   ]
  },
  {
   "cell_type": "code",
   "execution_count": 27,
   "id": "detected-bulgaria",
   "metadata": {},
   "outputs": [
    {
     "data": {
      "text/html": [
       "<div>\n",
       "<style scoped>\n",
       "    .dataframe tbody tr th:only-of-type {\n",
       "        vertical-align: middle;\n",
       "    }\n",
       "\n",
       "    .dataframe tbody tr th {\n",
       "        vertical-align: top;\n",
       "    }\n",
       "\n",
       "    .dataframe thead th {\n",
       "        text-align: right;\n",
       "    }\n",
       "</style>\n",
       "<table border=\"1\" class=\"dataframe\">\n",
       "  <thead>\n",
       "    <tr style=\"text-align: right;\">\n",
       "      <th></th>\n",
       "      <th>GenderID</th>\n",
       "      <th>Count</th>\n",
       "    </tr>\n",
       "  </thead>\n",
       "  <tbody>\n",
       "    <tr>\n",
       "      <th>0</th>\n",
       "      <td>F</td>\n",
       "      <td>59</td>\n",
       "    </tr>\n",
       "    <tr>\n",
       "      <th>1</th>\n",
       "      <td>M</td>\n",
       "      <td>52</td>\n",
       "    </tr>\n",
       "  </tbody>\n",
       "</table>\n",
       "</div>"
      ],
      "text/plain": [
       "  GenderID  Count\n",
       "0        F     59\n",
       "1        M     52"
      ]
     },
     "execution_count": 27,
     "metadata": {},
     "output_type": "execute_result"
    }
   ],
   "source": [
    "data_talent_by_level_junior = ps.sqldf(\"\"\"SELECT GenderID, COUNT (*) AS Count\n",
    "                                          FROM data\n",
    "                                          WHERE LevelID = 'Junior' AND EmploymentStatus = 'Active'\n",
    "                                          GROUP BY GenderID\n",
    "                                          ORDER BY count DESC\"\"\")\n",
    "data_by_level_gender_junior = pd.DataFrame(data_talent_by_level_junior, columns = ['GenderID', 'Count'])\n",
    "data_by_level_gender_junior[['GenderID', 'Count']]"
   ]
  },
  {
   "cell_type": "code",
   "execution_count": 28,
   "id": "royal-alarm",
   "metadata": {},
   "outputs": [
    {
     "data": {
      "image/png": "[encoded data removed]",
      "text/plain": [
       "<Figure size 360x360 with 1 Axes>"
      ]
     },
     "metadata": {},
     "output_type": "display_data"
    }
   ],
   "source": [
    "fig = plt.figure(figsize=[5,5])\n",
    "ax = fig.add_axes([0,0,1,1])\n",
    "ax.axis('equal')\n",
    "ax.pie(data_by_level_gender_junior['Count'], labels=data_by_level_gender_junior['GenderID'])\n",
    "plt.title('Gender Distribution of Junior Employee', fontsize = 20)\n",
    "plt.show()"
   ]
  },
  {
   "cell_type": "code",
   "execution_count": 29,
   "id": "alpha-portable",
   "metadata": {},
   "outputs": [
    {
     "data": {
      "text/html": [
       "<div>\n",
       "<style scoped>\n",
       "    .dataframe tbody tr th:only-of-type {\n",
       "        vertical-align: middle;\n",
       "    }\n",
       "\n",
       "    .dataframe tbody tr th {\n",
       "        vertical-align: top;\n",
       "    }\n",
       "\n",
       "    .dataframe thead th {\n",
       "        text-align: right;\n",
       "    }\n",
       "</style>\n",
       "<table border=\"1\" class=\"dataframe\">\n",
       "  <thead>\n",
       "    <tr style=\"text-align: right;\">\n",
       "      <th></th>\n",
       "      <th>GenderID</th>\n",
       "      <th>Count</th>\n",
       "    </tr>\n",
       "  </thead>\n",
       "  <tbody>\n",
       "    <tr>\n",
       "      <th>0</th>\n",
       "      <td>M</td>\n",
       "      <td>25</td>\n",
       "    </tr>\n",
       "    <tr>\n",
       "      <th>1</th>\n",
       "      <td>F</td>\n",
       "      <td>24</td>\n",
       "    </tr>\n",
       "  </tbody>\n",
       "</table>\n",
       "</div>"
      ],
      "text/plain": [
       "  GenderID  Count\n",
       "0        M     25\n",
       "1        F     24"
      ]
     },
     "execution_count": 29,
     "metadata": {},
     "output_type": "execute_result"
    }
   ],
   "source": [
    "data_talent_by_level_middle = ps.sqldf(\"\"\"SELECT GenderID, COUNT (*) AS Count\n",
    "                                          FROM data\n",
    "                                          WHERE LevelID = 'Middle' AND EmploymentStatus = 'Active'\n",
    "                                          GROUP BY GenderID\n",
    "                                          ORDER BY count DESC\"\"\")\n",
    "data_by_level_middle = pd.DataFrame(data_talent_by_level_middle, columns = ['GenderID', 'Count'])\n",
    "data_by_level_middle[['GenderID', 'Count']]"
   ]
  },
  {
   "cell_type": "code",
   "execution_count": 30,
   "id": "retained-nickname",
   "metadata": {},
   "outputs": [
    {
     "data": {
      "image/png": "[encoded data removed]",
      "text/plain": [
       "<Figure size 360x360 with 1 Axes>"
      ]
     },
     "metadata": {},
     "output_type": "display_data"
    }
   ],
   "source": [
    "fig = plt.figure(figsize=[5,5])\n",
    "ax = fig.add_axes([0,0,1,1])\n",
    "ax.axis('equal')\n",
    "ax.pie(data_by_level_middle['Count'], labels=data_by_level_middle['GenderID'])\n",
    "plt.title('Gender Distribution of Middle Employee', fontsize = 20)\n",
    "plt.show()"
   ]
  },
  {
   "cell_type": "markdown",
   "id": "fresh-tuesday",
   "metadata": {},
   "source": [
    "### PerfScoreID : Performance of employee (Exceed, Fully meets, Average, Need improvement, Special treatment)"
   ]
  },
  {
   "cell_type": "code",
   "execution_count": 31,
   "id": "accessible-freedom",
   "metadata": {},
   "outputs": [
    {
     "data": {
      "text/html": [
       "<div>\n",
       "<style scoped>\n",
       "    .dataframe tbody tr th:only-of-type {\n",
       "        vertical-align: middle;\n",
       "    }\n",
       "\n",
       "    .dataframe tbody tr th {\n",
       "        vertical-align: top;\n",
       "    }\n",
       "\n",
       "    .dataframe thead th {\n",
       "        text-align: right;\n",
       "    }\n",
       "</style>\n",
       "<table border=\"1\" class=\"dataframe\">\n",
       "  <thead>\n",
       "    <tr style=\"text-align: right;\">\n",
       "      <th></th>\n",
       "      <th>PerfScoreID</th>\n",
       "      <th>Count</th>\n",
       "    </tr>\n",
       "  </thead>\n",
       "  <tbody>\n",
       "    <tr>\n",
       "      <th>0</th>\n",
       "      <td>Average</td>\n",
       "      <td>58</td>\n",
       "    </tr>\n",
       "    <tr>\n",
       "      <th>1</th>\n",
       "      <td>Fully meets</td>\n",
       "      <td>52</td>\n",
       "    </tr>\n",
       "    <tr>\n",
       "      <th>2</th>\n",
       "      <td>Exceed</td>\n",
       "      <td>46</td>\n",
       "    </tr>\n",
       "    <tr>\n",
       "      <th>3</th>\n",
       "      <td>Need improvement</td>\n",
       "      <td>23</td>\n",
       "    </tr>\n",
       "    <tr>\n",
       "      <th>4</th>\n",
       "      <td>Special treatment</td>\n",
       "      <td>15</td>\n",
       "    </tr>\n",
       "  </tbody>\n",
       "</table>\n",
       "</div>"
      ],
      "text/plain": [
       "         PerfScoreID  Count\n",
       "0            Average     58\n",
       "1        Fully meets     52\n",
       "2             Exceed     46\n",
       "3   Need improvement     23\n",
       "4  Special treatment     15"
      ]
     },
     "execution_count": 31,
     "metadata": {},
     "output_type": "execute_result"
    }
   ],
   "source": [
    "data_perfscore = ps.sqldf(\"\"\"SELECT PerfScoreID, COUNT (*) Count\n",
    "                             FROM data\n",
    "                             WHERE EmploymentStatus = 'Active'\n",
    "                             GROUP BY PerfScoreID\n",
    "                             ORDER BY count DESC\"\"\")\n",
    "data_perfscore_active = pd.DataFrame(data_perfscore, columns = ['PerfScoreID', 'Count'])\n",
    "data_perfscore_active[['PerfScoreID', 'Count']]"
   ]
  },
  {
   "cell_type": "code",
   "execution_count": 32,
   "id": "metric-handling",
   "metadata": {},
   "outputs": [
    {
     "name": "stderr",
     "output_type": "stream",
     "text": [
      "c:\\users\\novrianti\\appdata\\local\\programs\\python\\python39\\lib\\site-packages\\seaborn\\_decorators.py:36: FutureWarning: Pass the following variables as keyword args: x, y. From version 0.12, the only valid positional argument will be `data`, and passing other arguments without an explicit keyword will result in an error or misinterpretation.\n",
      "  warnings.warn(\n"
     ]
    },
    {
     "data": {
      "image/png": "[encoded data removed]",
      "text/plain": [
       "<Figure size 1080x540 with 1 Axes>"
      ]
     },
     "metadata": {
      "needs_background": "light"
     },
     "output_type": "display_data"
    }
   ],
   "source": [
    "plt.figure(figsize=(15,7.5)) \n",
    "plt.xticks(rotation='vertical') \n",
    "\n",
    "color_blind_palette = [\"#DC267F\", \"#785EF0\", \"#648FFF\", \"#FE6100\", \"#FFB000\", \"#E80E8D\", \"#2E8766\", \"#95ABAC\", \"#65B925\", \"#906A42\", \"#C4D537\", \"#344A52\", \"#6C6E06\", \"#1C4DD2\", \"#216E00\", \"#2E03E5\", \"#A94424\", \"#7F6EA9\", \"#9B8453\", \"#380721\"]\n",
    "\n",
    "plot_data_perfscore_active = sns.barplot(data_perfscore_active['PerfScoreID'],data_perfscore_active['Count'])\n",
    "                                  \n",
    "\n",
    "plt.xlabel('PerfScoreID', fontsize=12.5)\n",
    "plt.ylabel('Count', rotation=0, ha='right', fontsize=12.5)\n",
    "plt.figtext(.5,.9,\"Count of PerfScoreID By EmploymentStatus 'Active'\", fontsize=20, fontweight='bold', fontname='helvetica', ha='center') #formatted title\n",
    "\n",
    "for patch in plot_data_perfscore_active.patches:\n",
    "    plot_data_perfscore_active.annotate(\"%.0f\" % patch.get_height(), (patch.get_x() + patch.get_width() / 2., patch.get_height()),\n",
    "                 ha='center', va='center', fontsize=10, color='black', xytext=(0, 5),\n",
    "                 textcoords='offset points')\n",
    "\n",
    "plt.show()"
   ]
  },
  {
   "cell_type": "markdown",
   "id": "second-ghost",
   "metadata": {},
   "source": [
    "### EmpSatisfaction : Employee satisfaction score (5 to 1)"
   ]
  },
  {
   "cell_type": "code",
   "execution_count": 33,
   "id": "coordinated-finding",
   "metadata": {},
   "outputs": [
    {
     "data": {
      "text/html": [
       "<div>\n",
       "<style scoped>\n",
       "    .dataframe tbody tr th:only-of-type {\n",
       "        vertical-align: middle;\n",
       "    }\n",
       "\n",
       "    .dataframe tbody tr th {\n",
       "        vertical-align: top;\n",
       "    }\n",
       "\n",
       "    .dataframe thead th {\n",
       "        text-align: right;\n",
       "    }\n",
       "</style>\n",
       "<table border=\"1\" class=\"dataframe\">\n",
       "  <thead>\n",
       "    <tr style=\"text-align: right;\">\n",
       "      <th></th>\n",
       "      <th>EmpSatisfaction</th>\n",
       "      <th>Count</th>\n",
       "    </tr>\n",
       "  </thead>\n",
       "  <tbody>\n",
       "    <tr>\n",
       "      <th>0</th>\n",
       "      <td>3</td>\n",
       "      <td>71</td>\n",
       "    </tr>\n",
       "    <tr>\n",
       "      <th>1</th>\n",
       "      <td>5</td>\n",
       "      <td>66</td>\n",
       "    </tr>\n",
       "    <tr>\n",
       "      <th>2</th>\n",
       "      <td>4</td>\n",
       "      <td>50</td>\n",
       "    </tr>\n",
       "    <tr>\n",
       "      <th>3</th>\n",
       "      <td>2</td>\n",
       "      <td>5</td>\n",
       "    </tr>\n",
       "    <tr>\n",
       "      <th>4</th>\n",
       "      <td>1</td>\n",
       "      <td>2</td>\n",
       "    </tr>\n",
       "  </tbody>\n",
       "</table>\n",
       "</div>"
      ],
      "text/plain": [
       "   EmpSatisfaction  Count\n",
       "0                3     71\n",
       "1                5     66\n",
       "2                4     50\n",
       "3                2      5\n",
       "4                1      2"
      ]
     },
     "execution_count": 33,
     "metadata": {},
     "output_type": "execute_result"
    }
   ],
   "source": [
    "data_empsatisfaction = ps.sqldf(\"\"\"SELECT EmpSatisfaction, COUNT (*) Count\n",
    "                                   FROM data\n",
    "                                   WHERE EmploymentStatus = 'Active'\n",
    "                                   GROUP BY EmpSatisfaction\n",
    "                                   ORDER BY count DESC\"\"\")\n",
    "data_empsatisfaction_active = pd.DataFrame(data_empsatisfaction, columns = ['EmpSatisfaction', 'Count'])\n",
    "data_empsatisfaction_active[['EmpSatisfaction', 'Count']]"
   ]
  },
  {
   "cell_type": "code",
   "execution_count": 34,
   "id": "solar-enemy",
   "metadata": {},
   "outputs": [
    {
     "name": "stderr",
     "output_type": "stream",
     "text": [
      "c:\\users\\novrianti\\appdata\\local\\programs\\python\\python39\\lib\\site-packages\\seaborn\\_decorators.py:36: FutureWarning: Pass the following variables as keyword args: x, y. From version 0.12, the only valid positional argument will be `data`, and passing other arguments without an explicit keyword will result in an error or misinterpretation.\n",
      "  warnings.warn(\n"
     ]
    },
    {
     "data": {
      "image/png": "[encoded data removed]",
      "text/plain": [
       "<Figure size 1080x540 with 1 Axes>"
      ]
     },
     "metadata": {
      "needs_background": "light"
     },
     "output_type": "display_data"
    }
   ],
   "source": [
    "plt.figure(figsize=(15,7.5))\n",
    "plt.xticks(rotation='vertical') \n",
    "\n",
    "color_blind_palette = [\"#DC267F\", \"#785EF0\", \"#648FFF\", \"#FE6100\", \"#FFB000\", \"#E80E8D\", \"#2E8766\", \"#95ABAC\", \"#65B925\", \"#906A42\", \"#C4D537\", \"#344A52\", \"#6C6E06\", \"#1C4DD2\", \"#216E00\", \"#2E03E5\", \"#A94424\", \"#7F6EA9\", \"#9B8453\", \"#380721\"]\n",
    "\n",
    "plot_data_empsatisfaction_active = sns.barplot(data_empsatisfaction_active['EmpSatisfaction'],data_empsatisfaction_active['Count'])\n",
    "                                  \n",
    "\n",
    "plt.xlabel('EmpSatisfaction', fontsize=12.5)\n",
    "plt.ylabel('Count', rotation=0, ha='right', fontsize=12.5)\n",
    "plt.figtext(.5,.9,\"Count of EmpSactisfaction By EmploymentStatus is 'Active'\", fontsize=20, fontweight='bold', fontname='helvetica', ha='center') #formatted title\n",
    "\n",
    "for patch in plot_data_empsatisfaction_active.patches:\n",
    "    plot_data_empsatisfaction_active.annotate(\"%.0f\" % patch.get_height(), (patch.get_x() + patch.get_width() / 2., patch.get_height()),\n",
    "                 ha='center', va='center', fontsize=10, color='black', xytext=(0, 5),\n",
    "                 textcoords='offset points')\n",
    "\n",
    "plt.show()"
   ]
  },
  {
   "cell_type": "markdown",
   "id": "monthly-preview",
   "metadata": {},
   "source": [
    "### EngagementSurvey : Engagement survey score (5 to 1)"
   ]
  },
  {
   "cell_type": "code",
   "execution_count": 35,
   "id": "under-fitness",
   "metadata": {},
   "outputs": [
    {
     "data": {
      "text/html": [
       "<div>\n",
       "<style scoped>\n",
       "    .dataframe tbody tr th:only-of-type {\n",
       "        vertical-align: middle;\n",
       "    }\n",
       "\n",
       "    .dataframe tbody tr th {\n",
       "        vertical-align: top;\n",
       "    }\n",
       "\n",
       "    .dataframe thead th {\n",
       "        text-align: right;\n",
       "    }\n",
       "</style>\n",
       "<table border=\"1\" class=\"dataframe\">\n",
       "  <thead>\n",
       "    <tr style=\"text-align: right;\">\n",
       "      <th></th>\n",
       "      <th>EngangementSurveyRound</th>\n",
       "      <th>Count</th>\n",
       "    </tr>\n",
       "  </thead>\n",
       "  <tbody>\n",
       "    <tr>\n",
       "      <th>0</th>\n",
       "      <td>4</td>\n",
       "      <td>88</td>\n",
       "    </tr>\n",
       "    <tr>\n",
       "      <th>1</th>\n",
       "      <td>5</td>\n",
       "      <td>73</td>\n",
       "    </tr>\n",
       "    <tr>\n",
       "      <th>2</th>\n",
       "      <td>3</td>\n",
       "      <td>22</td>\n",
       "    </tr>\n",
       "    <tr>\n",
       "      <th>3</th>\n",
       "      <td>2</td>\n",
       "      <td>9</td>\n",
       "    </tr>\n",
       "    <tr>\n",
       "      <th>4</th>\n",
       "      <td>1</td>\n",
       "      <td>2</td>\n",
       "    </tr>\n",
       "  </tbody>\n",
       "</table>\n",
       "</div>"
      ],
      "text/plain": [
       "   EngangementSurveyRound  Count\n",
       "0                       4     88\n",
       "1                       5     73\n",
       "2                       3     22\n",
       "3                       2      9\n",
       "4                       1      2"
      ]
     },
     "execution_count": 35,
     "metadata": {},
     "output_type": "execute_result"
    }
   ],
   "source": [
    "data_engangementsurvey = ps.sqldf(\"\"\"SELECT EngangementSurveyRound, COUNT (*) AS Count\n",
    "                                     FROM data\n",
    "                                     WHERE EmploymentStatus = 'Active'\n",
    "                                     GROUP BY EngangementSurveyRound\n",
    "                                     ORDER BY count DESC\"\"\")\n",
    "data_engangementsurvey_active = pd.DataFrame(data_engangementsurvey, columns = ['EngangementSurveyRound', 'Count'])\n",
    "data_engangementsurvey_active[['EngangementSurveyRound', 'Count']]"
   ]
  },
  {
   "cell_type": "code",
   "execution_count": 36,
   "id": "removable-viking",
   "metadata": {},
   "outputs": [
    {
     "name": "stderr",
     "output_type": "stream",
     "text": [
      "c:\\users\\novrianti\\appdata\\local\\programs\\python\\python39\\lib\\site-packages\\seaborn\\_decorators.py:36: FutureWarning: Pass the following variables as keyword args: x, y. From version 0.12, the only valid positional argument will be `data`, and passing other arguments without an explicit keyword will result in an error or misinterpretation.\n",
      "  warnings.warn(\n"
     ]
    },
    {
     "data": {
      "image/png": "[encoded data removed]",
      "text/plain": [
       "<Figure size 1080x540 with 1 Axes>"
      ]
     },
     "metadata": {
      "needs_background": "light"
     },
     "output_type": "display_data"
    }
   ],
   "source": [
    "plt.figure(figsize=(15,7.5)) \n",
    "plt.xticks(rotation='vertical') \n",
    "\n",
    "color_blind_palette = [\"#DC267F\", \"#785EF0\", \"#648FFF\", \"#FE6100\", \"#FFB000\", \"#E80E8D\", \"#2E8766\", \"#95ABAC\", \"#65B925\", \"#906A42\", \"#C4D537\", \"#344A52\", \"#6C6E06\", \"#1C4DD2\", \"#216E00\", \"#2E03E5\", \"#A94424\", \"#7F6EA9\", \"#9B8453\", \"#380721\"]\n",
    "\n",
    "plot_data_engangementsurvey_active = sns.barplot(data_engangementsurvey_active['EngangementSurveyRound'],data_engangementsurvey_active['Count'])\n",
    "                                  \n",
    "\n",
    "plt.xlabel('EmpSatisfaction', fontsize=12.5)\n",
    "plt.ylabel('Count', rotation=0, ha='right', fontsize=12.5)\n",
    "plt.figtext(.5,.9,\"Count of EngangementSurveyRound By EmploymentStatus is 'Active'\", fontsize=20, fontweight='bold', fontname='helvetica', ha='center') #formatted title\n",
    "\n",
    "for patch in plot_data_engangementsurvey_active.patches:\n",
    "    plot_data_engangementsurvey_active.annotate(\"%.0f\" % patch.get_height(), (patch.get_x() + patch.get_width() / 2., patch.get_height()),\n",
    "                 ha='center', va='center', fontsize=10, color='black', xytext=(0, 5),\n",
    "                 textcoords='offset points')\n",
    "\n",
    "plt.show()"
   ]
  }
 ],
 "metadata": {
  "kernelspec": {
   "display_name": "Python 3",
   "language": "python",
   "name": "python3"
  },
  "language_info": {
   "codemirror_mode": {
    "name": "ipython",
    "version": 3
   },
   "file_extension": ".py",
   "mimetype": "text/x-python",
   "name": "python",
   "nbconvert_exporter": "python",
   "pygments_lexer": "ipython3",
   "version": "3.9.2"
  }
 },
 "nbformat": 4,
 "nbformat_minor": 5
}
